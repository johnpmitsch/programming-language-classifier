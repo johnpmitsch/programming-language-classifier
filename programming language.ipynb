{
 "metadata": {
  "name": "",
  "signature": "sha256:0a717f6c6ae2e872508e1e33b0f51a1e11801febae9f5755112f35af978a3821"
 },
 "nbformat": 3,
 "nbformat_minor": 0,
 "worksheets": [
  {
   "cells": [
    {
     "cell_type": "code",
     "collapsed": false,
     "input": [
      "import os\n",
      "import numpy as np\n",
      "import pandas as pd"
     ],
     "language": "python",
     "metadata": {},
     "outputs": [],
     "prompt_number": 3
    },
    {
     "cell_type": "code",
     "collapsed": false,
     "input": [
      "import collections\n",
      "import operator\n",
      "import string"
     ],
     "language": "python",
     "metadata": {},
     "outputs": [],
     "prompt_number": 4
    },
    {
     "cell_type": "heading",
     "level": 2,
     "metadata": {},
     "source": [
      "Getting file types for the training data"
     ]
    },
    {
     "cell_type": "code",
     "collapsed": false,
     "input": [
      "ext_dict = {'clojure': ['.clj', '.clojure'],\n",
      "            'haskell': ['.hs', '.ghc'],\n",
      "            'java': ['.java'],\n",
      "            'javascript': ['.js', '.javascript'],\n",
      "            'ocaml': ['.ml', '.mli', '.ocaml'],\n",
      "            'scheme': ['.scm', '.racket', '.ss'],\n",
      "            'scala': ['.scala'],\n",
      "            'tcl': ['.tcl'],\n",
      "            'perl': ['.perl'],\n",
      "            'php': ['.php'],\n",
      "            'ruby': ['.rb', '.ruby', '.jruby'],\n",
      "            'python': ['.python3', '.python2', '.py']}"
     ],
     "language": "python",
     "metadata": {},
     "outputs": [],
     "prompt_number": 5
    },
    {
     "cell_type": "code",
     "collapsed": false,
     "input": [
      "def read_file(code_example):\n",
      "    \"\"\"Reads file and returns each line of the file as a list of strings\"\"\"\n",
      "    code = open(code_example, \"r\")\n",
      "    try:\n",
      "        return [line.strip('\\n') for line in code.readlines()]\n",
      "    except UnicodeDecodeError or TypeError:\n",
      "        print(\"UnicodeError\")"
     ],
     "language": "python",
     "metadata": {},
     "outputs": [],
     "prompt_number": 6
    },
    {
     "cell_type": "code",
     "collapsed": false,
     "input": [
      "file1 = read_file('test/1')"
     ],
     "language": "python",
     "metadata": {},
     "outputs": [],
     "prompt_number": 7
    },
    {
     "cell_type": "code",
     "collapsed": false,
     "input": [
      "def type_of_file(ext, ext_dict):\n",
      "    \"\"\"Determines the type of file based on an extension dictionary\"\"\"\n",
      "    for key, value in ext_dict.items():\n",
      "        if ext in value:\n",
      "            return key"
     ],
     "language": "python",
     "metadata": {},
     "outputs": [],
     "prompt_number": 8
    },
    {
     "cell_type": "code",
     "collapsed": false,
     "input": [
      "def get_file_types(root_directory):\n",
      "    \"\"\"Returns the file extensions for each file, as specified by the file dict\"\"\"\n",
      "    file_types = []\n",
      "    for root, directory, files in os.walk(root_directory):\n",
      "        for code_file in files:\n",
      "            file_name, extension = os.path.splitext(code_file)\n",
      "            if extension in [ext for lst in ext_dict.values() for ext in lst]:\n",
      "                snippet = read_file(root + '/' + code_file)\n",
      "                file_types.append(type_of_file(str(extension), ext_dict))\n",
      "    return file_types"
     ],
     "language": "python",
     "metadata": {},
     "outputs": [],
     "prompt_number": 9
    },
    {
     "cell_type": "heading",
     "level": 2,
     "metadata": {},
     "source": [
      "Find list of top characters in each language"
     ]
    },
    {
     "cell_type": "code",
     "collapsed": false,
     "input": [
      "def n_grams(code_file, length):\n",
      "    \"\"\"Returns x length punctuation characters from a file. Takes a list of strings as input\"\"\"\n",
      "    gram_list = []\n",
      "    for line in code_file:\n",
      "        for i in range(len(line) - length):\n",
      "            gram = line[i:i+length]\n",
      "            grams = list(gram)\n",
      "            punctuation_list = list(string.punctuation)\n",
      "            if set(grams) < set(punctuation_list) :\n",
      "                gram_list.append(gram)\n",
      "    return gram_list    \n",
      "    "
     ],
     "language": "python",
     "metadata": {},
     "outputs": [],
     "prompt_number": 10
    },
    {
     "cell_type": "code",
     "collapsed": false,
     "input": [
      "def top_values(lst, num):\n",
      "    \"\"\"Returns most reoccuring values for a list of strings\"\"\"\n",
      "    char_list = []\n",
      "    value_dict = collections.defaultdict(lambda: 0) \n",
      "    for value in lst:\n",
      "        value_dict[value] += 1\n",
      "    tup_list = sorted(value_dict.items(), key=operator.itemgetter(1), reverse=True)\n",
      "    for i in range(num):\n",
      "        try:\n",
      "            char_list.append(tup_list[i][0])\n",
      "        except IndexError:\n",
      "            return char_list\n",
      "    return char_list"
     ],
     "language": "python",
     "metadata": {},
     "outputs": [],
     "prompt_number": 11
    },
    {
     "cell_type": "code",
     "collapsed": false,
     "input": [
      "def find_common_characters(language, characters, root_dir):\n",
      "    file_types = []\n",
      "    character_list = []\n",
      "    for root, directory, files in os.walk(root_dir):\n",
      "        for code_file in files:\n",
      "            file_name, extension = os.path.splitext(code_file)\n",
      "            if extension in [ext for ext in ext_dict[language]]:\n",
      "                snippet = read_file(root + '/' + code_file)\n",
      "                character_list.extend(n_grams(snippet, characters))\n",
      "    return character_list"
     ],
     "language": "python",
     "metadata": {},
     "outputs": [],
     "prompt_number": 12
    },
    {
     "cell_type": "code",
     "collapsed": false,
     "input": [
      "def get_top_value_lists(language, number_of_values):\n",
      "    four = find_common_characters(language, 4, 'bench')\n",
      "    four_list = top_values(four, number_of_values)\n",
      "    three = find_common_characters(language, 3, 'bench')\n",
      "    three_list = top_values(three, number_of_values)\n",
      "    two = find_common_characters(language, 2, 'bench')\n",
      "    two_list = top_values(two, number_of_values)\n",
      "    one = find_common_characters(language, 1, 'bench')\n",
      "    one_list = top_values(one, number_of_values)\n",
      "    return one_list, two_list, three_list, four_list\n",
      "    "
     ],
     "language": "python",
     "metadata": {},
     "outputs": [],
     "prompt_number": 13
    },
    {
     "cell_type": "code",
     "collapsed": false,
     "input": [
      "number_of_values = 5  # default number of top values to return for each language\n",
      "py1, py2, py3, py4 = get_top_value_lists(\"python\", number_of_values)\n",
      "cloj1, cloj2, cloj3, cloj4 = get_top_value_lists(\"clojure\", number_of_values)\n",
      "hask1, hask2, hask3, hask4 = get_top_value_lists(\"haskell\", number_of_values)\n",
      "java1, java2, java3, java4 = get_top_value_lists(\"java\", number_of_values)\n",
      "js1, js2, js3, js4 = get_top_value_lists(\"javascript\", number_of_values)\n",
      "oc1, oc2, oc3, oc4 = get_top_value_lists(\"ocaml\", number_of_values)\n",
      "scm1, scm2, scm3, scm4 = get_top_value_lists(\"scheme\", number_of_values)\n",
      "scal1, scal2, scal3, scal4 = get_top_value_lists(\"scala\", number_of_values)\n",
      "perl1, perl2, perl3, perl4 = get_top_value_lists(\"perl\", number_of_values)\n",
      "php1, php2, php3, php4 = get_top_value_lists(\"php\", number_of_values)\n",
      "rb1, rb2, rb3, rb4 = get_top_value_lists(\"ruby\", number_of_values)"
     ],
     "language": "python",
     "metadata": {},
     "outputs": [],
     "prompt_number": 14
    },
    {
     "cell_type": "code",
     "collapsed": false,
     "input": [
      "top_characters_per_language = [py1, py2, py3, py4, cloj1, cloj2, cloj3, cloj4, hask1, hask2, hask3, hask4,\n",
      "                               java1, java2, java3, java4, js1, js2, js3, js4, oc1, oc2, oc3, oc4, scm1,\n",
      "                               scm2, scm3, scm4, scal1, scal2, scal3, scal4, perl1, perl2, perl3, perl4,\n",
      "                               php1, php2, php3, php4, rb1, rb2, rb3, rb4] "
     ],
     "language": "python",
     "metadata": {},
     "outputs": [],
     "prompt_number": 15
    },
    {
     "cell_type": "code",
     "collapsed": false,
     "input": [
      "top_characters = [char for sublist in top_characters_per_language for char in sublist]"
     ],
     "language": "python",
     "metadata": {},
     "outputs": [],
     "prompt_number": 61
    },
    {
     "cell_type": "code",
     "collapsed": false,
     "input": [
      "def remove_duplicates(seq):\n",
      "    seen = set()\n",
      "    seen_add = seen.add\n",
      "    return [ x for x in seq if not (x in seen or seen_add(x))]\n",
      "\n",
      "top_chars = remove_duplicates(top_characters)"
     ],
     "language": "python",
     "metadata": {},
     "outputs": [],
     "prompt_number": 65
    },
    {
     "cell_type": "code",
     "collapsed": false,
     "input": [
      "#top_characters_per_language = [py1, py2, cloj1, cloj2, hask1, hask2, java1, java2, js1, js2, oc1, oc2, scm1, scm2, scal1, scal2, perl1, perl2, php1, php2, rb1, rb2,]"
     ],
     "language": "python",
     "metadata": {},
     "outputs": [],
     "prompt_number": 16
    },
    {
     "cell_type": "heading",
     "level": 2,
     "metadata": {},
     "source": [
      "Making a list of punctuation and strings to use as features"
     ]
    },
    {
     "cell_type": "code",
     "collapsed": false,
     "input": [
      "one_char_punctuation = list(string.punctuation)"
     ],
     "language": "python",
     "metadata": {},
     "outputs": [],
     "prompt_number": 17
    },
    {
     "cell_type": "code",
     "collapsed": false,
     "input": [
      "strings_and_punctuation = ['\"\"\"', '===', '(((', ')))', '/*', '*/', '(*',\n",
      "                           '*)', '{-', '-}', '#|', '|#', '.(', '--', '::', \n",
      "                           '//', '))', '{[', '<-', '<=', '=>', '++', '--', '==',\n",
      "                           'String', 'string', 'class', 'object', 'val', 'def',\n",
      "                           'return', 'set', 'argv', 'end', 'expr', 'public',\n",
      "                           'private', 'function', 'param', 'args', 'format',\n",
      "                           'module', 'label', 'in', 'len', 'transpose', 'zip', \n",
      "                           'Length', 'sort_by', 'sorted', 'sort!', 'length', \n",
      "                           'for', 'enumerate', 'foreach' 'isa', 'is_a', 'ref', \n",
      "                           'public', '$format', 'else', 'null', 'none', 'proc',\n",
      "                           'mix', 'defn', 'println', 'ns', 'Integer', 'List', \n",
      "                           'with', 'Map', 'map', 'Make', 'false', 'False', \n",
      "                           'True', 'true', 'init', 'search', 'int', 'try',\n",
      "                           'except', 'if', 'call', 'clojure', 'try', 'except', \n",
      "                           'list', 'call', 'from', 'let', 'else', 'combine', \n",
      "                           'self', 'Text', 'where', 'Set', 'include', 'super', \n",
      "                           'start', 'this', 'dom', 'shutdown', 'system', 'sys',\n",
      "                           'require', 'extend', 'loc.', 'import', 'get', 'var',\n",
      "                           'fns', 'replace', 'slice', 'fn','exec', 'tuple', 'val',\n",
      "                           'value', 'Array', 'array', 'scala', 'interface', 'not',\n",
      "                           'define', 'port', 'lambda', '|', 'Config', 'file', 'File',\n",
      "                           'Module', 'sortBy']\n",
      "\n",
      "strings_and_punctuation.extend(one_char_punctuation)"
     ],
     "language": "python",
     "metadata": {},
     "outputs": [],
     "prompt_number": 69
    },
    {
     "cell_type": "code",
     "collapsed": false,
     "input": [
      "top_chars.extend(strings_and_punctuation)"
     ],
     "language": "python",
     "metadata": {},
     "outputs": [],
     "prompt_number": 70
    },
    {
     "cell_type": "code",
     "collapsed": false,
     "input": [
      "top_punctuation_and_strings = remove_duplicates(top_chars)"
     ],
     "language": "python",
     "metadata": {},
     "outputs": [],
     "prompt_number": 71
    },
    {
     "cell_type": "heading",
     "level": 2,
     "metadata": {},
     "source": [
      "Check training and test code for features"
     ]
    },
    {
     "cell_type": "code",
     "collapsed": false,
     "input": [
      "def check_for_characters(code_file, check_chars, is_list=False):\n",
      "    \"\"\"Checks a file for certain character(s) and returns the count of occurrence in file\"\"\"\n",
      "    snippet = read_file(code_file)\n",
      "    length = len(check_chars)\n",
      "    total_characters = 0\n",
      "    count = 0\n",
      "    for line in snippet:\n",
      "        for i in range(len(line) - length):\n",
      "            total_characters += 1\n",
      "            if is_list:\n",
      "                if line[i:i+length] in check_chars:\n",
      "                    count += 1\n",
      "            else:\n",
      "                if line[i:i+length] == check_chars:\n",
      "                    count += 1\n",
      "    return count/total_characters * 1000  # returning a ratio"
     ],
     "language": "python",
     "metadata": {},
     "outputs": [],
     "prompt_number": 151
    },
    {
     "cell_type": "code",
     "collapsed": false,
     "input": [
      "check_for_characters('test/1', ')')"
     ],
     "language": "python",
     "metadata": {},
     "outputs": [
      {
       "metadata": {},
       "output_type": "pyout",
       "prompt_number": 152,
       "text": [
        "19.42645698427382"
       ]
      }
     ],
     "prompt_number": 152
    },
    {
     "cell_type": "code",
     "collapsed": false,
     "input": [],
     "language": "python",
     "metadata": {},
     "outputs": []
    },
    {
     "cell_type": "code",
     "collapsed": false,
     "input": [
      "def check_character_list(code_file, character_list):\n",
      "    \"\"\"checks a file for each characeter in the list passed as an argument\"\"\"\n",
      "    feature_count = []\n",
      "    for char in character_list:\n",
      "        count = check_for_characters(code_file, char)\n",
      "        feature_count.append(count)\n",
      "    return feature_count"
     ],
     "language": "python",
     "metadata": {},
     "outputs": [],
     "prompt_number": 22
    },
    {
     "cell_type": "code",
     "collapsed": false,
     "input": [
      "def check_snippet(snippet, char_list, length):\n",
      "    count = 0\n",
      "    for line in snippet:\n",
      "        for i in range(len(line) - length):\n",
      "            if line[i:i+length] in char_list:\n",
      "                count += 1\n",
      "    return count"
     ],
     "language": "python",
     "metadata": {},
     "outputs": [],
     "prompt_number": 23
    },
    {
     "cell_type": "code",
     "collapsed": false,
     "input": [
      "check_snippet(file1, py1, 1)"
     ],
     "language": "python",
     "metadata": {},
     "outputs": [
      {
       "metadata": {},
       "output_type": "pyout",
       "prompt_number": 24,
       "text": [
        "62"
       ]
      }
     ],
     "prompt_number": 24
    },
    {
     "cell_type": "code",
     "collapsed": false,
     "input": [
      "def get_features(char_list, root_dir, number):\n",
      "    features = []\n",
      "    for root, directory, files in os.walk(root_dir):\n",
      "        for code_file in files:\n",
      "            file_name, extension = os.path.splitext(code_file)\n",
      "            #if not code_file.startswith('.'):\n",
      "            if extension in [ext for lst in ext_dict.values() for ext in lst]:\n",
      "                the_file = read_file(root + '/' + code_file)\n",
      "                count = check_snippet(the_file, char_list, number)\n",
      "                features.append(count)\n",
      "    return features"
     ],
     "language": "python",
     "metadata": {},
     "outputs": [],
     "prompt_number": 25
    },
    {
     "cell_type": "code",
     "collapsed": false,
     "input": [
      "def get_test_features(char_list, root_dir, number):\n",
      "    features = []\n",
      "    for root, directory, files in os.walk(root_dir):\n",
      "        for code_file in files:\n",
      "            file_name, extension = os.path.splitext(code_file)\n",
      "            if not code_file.startswith('.'):  # to avoid hidden files like .DS_store\n",
      "                the_file = read_file(root + '/' + code_file)\n",
      "                count = check_snippet(the_file, char_list, number)\n",
      "                features.append(count)\n",
      "    return features\n",
      "                "
     ],
     "language": "python",
     "metadata": {},
     "outputs": [],
     "prompt_number": 26
    },
    {
     "cell_type": "code",
     "collapsed": false,
     "input": [
      "def create_feature_array(char_list, root_dir, test=False):\n",
      "    \"\"\"Creates a multi-dimensional array of features for machine learning. \n",
      "    char_list is a list of comparison values, the function iterates through\n",
      "    each list and compares each file in the root directory argument to it\"\"\"\n",
      "    feature_array = []\n",
      "    count = 0\n",
      "    for lst in char_list:\n",
      "        if test:  # checking for test dir\n",
      "            features = get_test_features(lst, root_dir, (count%4)+1)\n",
      "        else:\n",
      "            features = get_features(lst, root_dir, (count%4)+1)\n",
      "        feature_array.append(features)\n",
      "        count += 1\n",
      "    return feature_array"
     ],
     "language": "python",
     "metadata": {},
     "outputs": [],
     "prompt_number": 27
    },
    {
     "cell_type": "heading",
     "level": 2,
     "metadata": {},
     "source": [
      "Checking each file's punctuation and strings to use as features"
     ]
    },
    {
     "cell_type": "code",
     "collapsed": false,
     "input": [
      "def get_features2(char_list, root_dir):\n",
      "    features = []\n",
      "    for root, directory, files in os.walk(root_dir):\n",
      "        for code_file in files:\n",
      "            if not code_file.startswith('.'):\n",
      "                file_name, extension = os.path.splitext(code_file)\n",
      "                if extension in [ext for lst in ext_dict.values() for ext in lst]:\n",
      "                    the_file = root + '/' + code_file\n",
      "                    count = check_character_list(the_file, char_list) \n",
      "                    features.append(count)\n",
      "    return features"
     ],
     "language": "python",
     "metadata": {},
     "outputs": [],
     "prompt_number": 28
    },
    {
     "cell_type": "code",
     "collapsed": false,
     "input": [
      "def get_test_features2(char_list, root_dir):\n",
      "    features = {}\n",
      "    for root, directory, files in os.walk(root_dir):\n",
      "        for code_file in files:\n",
      "            if not code_file.startswith('.'):  # to avoid hidden files like .DS_store\n",
      "                the_file = root + '/' + code_file\n",
      "                count = check_character_list(the_file, char_list) \n",
      "                features[int(code_file)] = count  \n",
      "    return features"
     ],
     "language": "python",
     "metadata": {},
     "outputs": [],
     "prompt_number": 29
    },
    {
     "cell_type": "heading",
     "level": 2,
     "metadata": {},
     "source": [
      "Storing arrays to be used by classifiers"
     ]
    },
    {
     "cell_type": "code",
     "collapsed": false,
     "input": [
      "train_features = get_features2(top_punctuation_and_strings, 'bench')\n",
      "test_features = get_test_features2(top_punctuation_and_strings, 'test')"
     ],
     "language": "python",
     "metadata": {},
     "outputs": [],
     "prompt_number": 73
    },
    {
     "cell_type": "code",
     "collapsed": false,
     "input": [
      "#train_features2 = create_feature_array(top_characters_per_language, 'bench')"
     ],
     "language": "python",
     "metadata": {},
     "outputs": [],
     "prompt_number": 32
    },
    {
     "cell_type": "code",
     "collapsed": false,
     "input": [
      "#test_features2 = create_feature_array(top_characters_per_language, 'test', test=True)"
     ],
     "language": "python",
     "metadata": {},
     "outputs": [],
     "prompt_number": 33
    },
    {
     "cell_type": "code",
     "collapsed": false,
     "input": [
      "len(test_features)"
     ],
     "language": "python",
     "metadata": {},
     "outputs": [
      {
       "metadata": {},
       "output_type": "pyout",
       "prompt_number": 88,
       "text": [
        "32"
       ]
      }
     ],
     "prompt_number": 88
    },
    {
     "cell_type": "code",
     "collapsed": false,
     "input": [
      "test_feat = []\n",
      "for k, v in test_features.items():\n",
      "    test_feat.append(v)"
     ],
     "language": "python",
     "metadata": {},
     "outputs": [],
     "prompt_number": 89
    },
    {
     "cell_type": "code",
     "collapsed": false,
     "input": [
      "def flip_array(array):\n",
      "    new_array = np.array(array)\n",
      "    new_array = new_array.transpose()\n",
      "    return new_array"
     ],
     "language": "python",
     "metadata": {},
     "outputs": [],
     "prompt_number": 38
    },
    {
     "cell_type": "code",
     "collapsed": false,
     "input": [
      "test_f = flip_array(test_feat)"
     ],
     "language": "python",
     "metadata": {},
     "outputs": [],
     "prompt_number": 94
    },
    {
     "cell_type": "code",
     "collapsed": false,
     "input": [
      "train_f = flip_array(train_features)"
     ],
     "language": "python",
     "metadata": {},
     "outputs": [],
     "prompt_number": 95
    },
    {
     "cell_type": "heading",
     "level": 2,
     "metadata": {},
     "source": [
      "What features are  not useful?"
     ]
    },
    {
     "cell_type": "code",
     "collapsed": false,
     "input": [
      "len(test_f)"
     ],
     "language": "python",
     "metadata": {},
     "outputs": [
      {
       "metadata": {},
       "output_type": "pyout",
       "prompt_number": 92,
       "text": [
        "265"
       ]
      }
     ],
     "prompt_number": 92
    },
    {
     "cell_type": "code",
     "collapsed": false,
     "input": [
      "len(train_f)"
     ],
     "language": "python",
     "metadata": {},
     "outputs": [
      {
       "metadata": {},
       "output_type": "pyout",
       "prompt_number": 96,
       "text": [
        "265"
       ]
      }
     ],
     "prompt_number": 96
    },
    {
     "cell_type": "code",
     "collapsed": false,
     "input": [
      "test_features = pd.DataFrame(test_f)"
     ],
     "language": "python",
     "metadata": {},
     "outputs": [],
     "prompt_number": 103
    },
    {
     "cell_type": "code",
     "collapsed": false,
     "input": [
      "test_features2 = test_features.T"
     ],
     "language": "python",
     "metadata": {},
     "outputs": [],
     "prompt_number": 106
    },
    {
     "cell_type": "code",
     "collapsed": false,
     "input": [
      "test_features2.columns = top_punctuation_and_strings"
     ],
     "language": "python",
     "metadata": {},
     "outputs": [],
     "prompt_number": 108
    },
    {
     "cell_type": "code",
     "collapsed": false,
     "input": [
      "test_features2.head()"
     ],
     "language": "python",
     "metadata": {},
     "outputs": [
      {
       "html": [
        "<div style=\"max-height:1000px;max-width:1500px;overflow:auto;\">\n",
        "<table border=\"1\" class=\"dataframe\">\n",
        "  <thead>\n",
        "    <tr style=\"text-align: right;\">\n",
        "      <th></th>\n",
        "      <th>(</th>\n",
        "      <th>=</th>\n",
        "      <th>,</th>\n",
        "      <th>_</th>\n",
        "      <th>)</th>\n",
        "      <th>+=</th>\n",
        "      <th>\",</th>\n",
        "      <th>',</th>\n",
        "      <th>()</th>\n",
        "      <th>))</th>\n",
        "      <th>...</th>\n",
        "      <th>interface</th>\n",
        "      <th>not</th>\n",
        "      <th>define</th>\n",
        "      <th>port</th>\n",
        "      <th>lambda</th>\n",
        "      <th>Config</th>\n",
        "      <th>file</th>\n",
        "      <th>File</th>\n",
        "      <th>Module</th>\n",
        "      <th>sortBy</th>\n",
        "    </tr>\n",
        "  </thead>\n",
        "  <tbody>\n",
        "    <tr>\n",
        "      <th>0</th>\n",
        "      <td> 26</td>\n",
        "      <td> 0</td>\n",
        "      <td> 11</td>\n",
        "      <td> 4</td>\n",
        "      <td> 21</td>\n",
        "      <td> 0</td>\n",
        "      <td> 2</td>\n",
        "      <td> 0</td>\n",
        "      <td> 0</td>\n",
        "      <td> 10</td>\n",
        "      <td>...</td>\n",
        "      <td> 0</td>\n",
        "      <td> 0</td>\n",
        "      <td> 0</td>\n",
        "      <td> 0</td>\n",
        "      <td> 0</td>\n",
        "      <td> 0</td>\n",
        "      <td> 0</td>\n",
        "      <td> 0</td>\n",
        "      <td> 0</td>\n",
        "      <td> 0</td>\n",
        "    </tr>\n",
        "    <tr>\n",
        "      <th>1</th>\n",
        "      <td>  9</td>\n",
        "      <td> 0</td>\n",
        "      <td>  0</td>\n",
        "      <td> 0</td>\n",
        "      <td>  4</td>\n",
        "      <td> 0</td>\n",
        "      <td> 0</td>\n",
        "      <td> 0</td>\n",
        "      <td> 0</td>\n",
        "      <td>  1</td>\n",
        "      <td>...</td>\n",
        "      <td> 0</td>\n",
        "      <td> 0</td>\n",
        "      <td> 0</td>\n",
        "      <td> 0</td>\n",
        "      <td> 0</td>\n",
        "      <td> 0</td>\n",
        "      <td> 0</td>\n",
        "      <td> 0</td>\n",
        "      <td> 0</td>\n",
        "      <td> 0</td>\n",
        "    </tr>\n",
        "    <tr>\n",
        "      <th>2</th>\n",
        "      <td>  7</td>\n",
        "      <td> 0</td>\n",
        "      <td>  0</td>\n",
        "      <td> 0</td>\n",
        "      <td>  5</td>\n",
        "      <td> 0</td>\n",
        "      <td> 0</td>\n",
        "      <td> 0</td>\n",
        "      <td> 0</td>\n",
        "      <td>  3</td>\n",
        "      <td>...</td>\n",
        "      <td> 0</td>\n",
        "      <td> 0</td>\n",
        "      <td> 0</td>\n",
        "      <td> 0</td>\n",
        "      <td> 0</td>\n",
        "      <td> 0</td>\n",
        "      <td> 0</td>\n",
        "      <td> 0</td>\n",
        "      <td> 0</td>\n",
        "      <td> 0</td>\n",
        "    </tr>\n",
        "    <tr>\n",
        "      <th>3</th>\n",
        "      <td>  8</td>\n",
        "      <td> 0</td>\n",
        "      <td>  2</td>\n",
        "      <td> 0</td>\n",
        "      <td>  4</td>\n",
        "      <td> 0</td>\n",
        "      <td> 0</td>\n",
        "      <td> 0</td>\n",
        "      <td> 0</td>\n",
        "      <td>  1</td>\n",
        "      <td>...</td>\n",
        "      <td> 0</td>\n",
        "      <td> 2</td>\n",
        "      <td> 0</td>\n",
        "      <td> 0</td>\n",
        "      <td> 0</td>\n",
        "      <td> 0</td>\n",
        "      <td> 0</td>\n",
        "      <td> 0</td>\n",
        "      <td> 0</td>\n",
        "      <td> 0</td>\n",
        "    </tr>\n",
        "    <tr>\n",
        "      <th>4</th>\n",
        "      <td> 12</td>\n",
        "      <td> 3</td>\n",
        "      <td>  6</td>\n",
        "      <td> 6</td>\n",
        "      <td>  6</td>\n",
        "      <td> 0</td>\n",
        "      <td> 3</td>\n",
        "      <td> 0</td>\n",
        "      <td> 2</td>\n",
        "      <td>  0</td>\n",
        "      <td>...</td>\n",
        "      <td> 0</td>\n",
        "      <td> 1</td>\n",
        "      <td> 0</td>\n",
        "      <td> 2</td>\n",
        "      <td> 0</td>\n",
        "      <td> 0</td>\n",
        "      <td> 0</td>\n",
        "      <td> 0</td>\n",
        "      <td> 0</td>\n",
        "      <td> 0</td>\n",
        "    </tr>\n",
        "  </tbody>\n",
        "</table>\n",
        "<p>5 rows \u00d7 265 columns</p>\n",
        "</div>"
       ],
       "metadata": {},
       "output_type": "pyout",
       "prompt_number": 114,
       "text": [
        "    (  =   ,  _   )  +=  \",  ',  ()  ))   ...    interface  not  define  port  \\\n",
        "0  26  0  11  4  21   0   2   0   0  10   ...            0    0       0     0   \n",
        "1   9  0   0  0   4   0   0   0   0   1   ...            0    0       0     0   \n",
        "2   7  0   0  0   5   0   0   0   0   3   ...            0    0       0     0   \n",
        "3   8  0   2  0   4   0   0   0   0   1   ...            0    2       0     0   \n",
        "4  12  3   6  6   6   0   3   0   2   0   ...            0    1       0     2   \n",
        "\n",
        "   lambda  Config  file  File  Module  sortBy  \n",
        "0       0       0     0     0       0       0  \n",
        "1       0       0     0     0       0       0  \n",
        "2       0       0     0     0       0       0  \n",
        "3       0       0     0     0       0       0  \n",
        "4       0       0     0     0       0       0  \n",
        "\n",
        "[5 rows x 265 columns]"
       ]
      }
     ],
     "prompt_number": 114
    },
    {
     "cell_type": "code",
     "collapsed": false,
     "input": [
      "test_features2.apply(lambda x: np.all(x==0))"
     ],
     "language": "python",
     "metadata": {},
     "outputs": [
      {
       "metadata": {},
       "output_type": "pyout",
       "prompt_number": 119,
       "text": [
        "(      False\n",
        "=      False\n",
        ",      False\n",
        "_      False\n",
        ")      False\n",
        "+=      True\n",
        "\",     False\n",
        "',     False\n",
        "()     False\n",
        "))     False\n",
        "://    False\n",
        ")',     True\n",
        "(\"%     True\n",
        "())    False\n",
        "('>     True\n",
        "...\n",
        "tuple        False\n",
        "value        False\n",
        "Array        False\n",
        "array        False\n",
        "scala        False\n",
        "interface    False\n",
        "not          False\n",
        "define       False\n",
        "port         False\n",
        "lambda       False\n",
        "Config       False\n",
        "file         False\n",
        "File         False\n",
        "Module       False\n",
        "sortBy       False\n",
        "Length: 265, dtype: bool"
       ]
      }
     ],
     "prompt_number": 119
    },
    {
     "cell_type": "code",
     "collapsed": false,
     "input": [
      "# dropping all columns that only have zeros as values\n",
      "test_table = test_features2[test_features2.columns[(test_features2 != 0).any()]]"
     ],
     "language": "python",
     "metadata": {},
     "outputs": [],
     "prompt_number": 123
    },
    {
     "cell_type": "code",
     "collapsed": false,
     "input": [
      "punctuation_list_scrubbed = list(test_table.columns)"
     ],
     "language": "python",
     "metadata": {},
     "outputs": [],
     "prompt_number": 126
    },
    {
     "cell_type": "code",
     "collapsed": false,
     "input": [
      "testing.head()"
     ],
     "language": "python",
     "metadata": {},
     "outputs": [
      {
       "html": [
        "<div style=\"max-height:1000px;max-width:1500px;overflow:auto;\">\n",
        "<table border=\"1\" class=\"dataframe\">\n",
        "  <thead>\n",
        "    <tr style=\"text-align: right;\">\n",
        "      <th></th>\n",
        "      <th>Filename</th>\n",
        "      <th>Language</th>\n",
        "    </tr>\n",
        "  </thead>\n",
        "  <tbody>\n",
        "    <tr>\n",
        "      <th>0</th>\n",
        "      <td> 1</td>\n",
        "      <td> clojure</td>\n",
        "    </tr>\n",
        "    <tr>\n",
        "      <th>1</th>\n",
        "      <td> 2</td>\n",
        "      <td> clojure</td>\n",
        "    </tr>\n",
        "    <tr>\n",
        "      <th>2</th>\n",
        "      <td> 3</td>\n",
        "      <td> clojure</td>\n",
        "    </tr>\n",
        "    <tr>\n",
        "      <th>3</th>\n",
        "      <td> 4</td>\n",
        "      <td> clojure</td>\n",
        "    </tr>\n",
        "    <tr>\n",
        "      <th>4</th>\n",
        "      <td> 5</td>\n",
        "      <td>  python</td>\n",
        "    </tr>\n",
        "  </tbody>\n",
        "</table>\n",
        "</div>"
       ],
       "metadata": {},
       "output_type": "pyout",
       "prompt_number": 50,
       "text": [
        "   Filename Language\n",
        "0         1  clojure\n",
        "1         2  clojure\n",
        "2         3  clojure\n",
        "3         4  clojure\n",
        "4         5   python"
       ]
      }
     ],
     "prompt_number": 50
    },
    {
     "cell_type": "code",
     "collapsed": false,
     "input": [
      "test_lang = testing['Language']"
     ],
     "language": "python",
     "metadata": {},
     "outputs": [],
     "prompt_number": 51
    },
    {
     "cell_type": "code",
     "collapsed": false,
     "input": [
      "train_lang = get_file_types(\"bench\")"
     ],
     "language": "python",
     "metadata": {},
     "outputs": [],
     "prompt_number": 52
    },
    {
     "cell_type": "code",
     "collapsed": false,
     "input": [
      "train_features = get_features2(punctuation_list_scrubbed, 'bench')\n",
      "test_features = get_test_features2(punctuation_list_scrubbed, 'test')"
     ],
     "language": "python",
     "metadata": {},
     "outputs": [],
     "prompt_number": 153
    },
    {
     "cell_type": "code",
     "collapsed": false,
     "input": [
      "test_feat = []\n",
      "for k, v in test_features.items():\n",
      "    test_feat.append(v)"
     ],
     "language": "python",
     "metadata": {},
     "outputs": [],
     "prompt_number": 154
    },
    {
     "cell_type": "heading",
     "level": 2,
     "metadata": {},
     "source": [
      "Running classifiers"
     ]
    },
    {
     "cell_type": "code",
     "collapsed": false,
     "input": [
      "from sklearn.cross_validation import train_test_split\n",
      "from sklearn.naive_bayes import GaussianNB\n",
      "from sklearn import metrics\n",
      "from sklearn.cross_validation import cross_val_score"
     ],
     "language": "python",
     "metadata": {},
     "outputs": [],
     "prompt_number": 155
    },
    {
     "cell_type": "code",
     "collapsed": false,
     "input": [
      "from sklearn.svm import LinearSVC\n",
      "\n",
      "classifier = LinearSVC()\n",
      "classifier = classifier.fit(train_features, train_lang)\n",
      "predicted = classifier.predict(test_feat)\n",
      "\n",
      "print(metrics.classification_report(test_lang, predicted))\n",
      "print(metrics.confusion_matrix(test_lang, predicted))\n",
      "print(metrics.f1_score(test_lang, predicted))"
     ],
     "language": "python",
     "metadata": {},
     "outputs": [
      {
       "output_type": "stream",
       "stream": "stdout",
       "text": [
        "             precision    recall  f1-score   support\n",
        "\n",
        "    clojure       1.00      0.50      0.67         4\n",
        "    haskell       1.00      1.00      1.00         3\n",
        "       java       1.00      1.00      1.00         2\n",
        " javascript       0.80      1.00      0.89         4\n",
        "      ocaml       1.00      1.00      1.00         2\n",
        "       perl       0.00      0.00      0.00         0\n",
        "        php       0.75      1.00      0.86         3\n",
        "     python       1.00      1.00      1.00         4\n",
        "       ruby       1.00      1.00      1.00         3\n",
        "      scala       1.00      1.00      1.00         2\n",
        "     scheme       0.75      1.00      0.86         3\n",
        "        tcl       0.00      0.00      0.00         2\n",
        "\n",
        "avg / total       0.87      0.88      0.86        32\n",
        "\n",
        "[[2 0 0 1 0 0 0 0 0 0 1 0]\n",
        " [0 3 0 0 0 0 0 0 0 0 0 0]\n",
        " [0 0 2 0 0 0 0 0 0 0 0 0]\n",
        " [0 0 0 4 0 0 0 0 0 0 0 0]\n",
        " [0 0 0 0 2 0 0 0 0 0 0 0]\n",
        " [0 0 0 0 0 0 0 0 0 0 0 0]\n",
        " [0 0 0 0 0 0 3 0 0 0 0 0]\n",
        " [0 0 0 0 0 0 0 4 0 0 0 0]\n",
        " [0 0 0 0 0 0 0 0 3 0 0 0]\n",
        " [0 0 0 0 0 0 0 0 0 2 0 0]\n",
        " [0 0 0 0 0 0 0 0 0 0 3 0]\n",
        " [0 0 0 0 0 1 1 0 0 0 0 0]]\n",
        "0.855158730159\n"
       ]
      }
     ],
     "prompt_number": 156
    },
    {
     "cell_type": "code",
     "collapsed": false,
     "input": [
      "from sklearn.ensemble import RandomForestClassifier\n",
      "\n",
      "classifier = RandomForestClassifier()\n",
      "classifier = classifier.fit(train_features, train_lang)\n",
      "predicted = classifier.predict(test_feat)\n",
      "\n",
      "print(metrics.classification_report(test_lang, predicted))\n",
      "print(metrics.confusion_matrix(test_lang, predicted))\n",
      "print(metrics.f1_score(test_lang, predicted))"
     ],
     "language": "python",
     "metadata": {},
     "outputs": [
      {
       "output_type": "stream",
       "stream": "stdout",
       "text": [
        "             precision    recall  f1-score   support\n",
        "\n",
        "    clojure       1.00      0.75      0.86         4\n",
        "    haskell       1.00      1.00      1.00         3\n",
        "       java       0.40      1.00      0.57         2\n",
        " javascript       0.67      0.50      0.57         4\n",
        "      ocaml       1.00      1.00      1.00         2\n",
        "       perl       0.00      0.00      0.00         0\n",
        "        php       0.00      0.00      0.00         3\n",
        "     python       1.00      0.50      0.67         4\n",
        "       ruby       0.50      1.00      0.67         3\n",
        "      scala       0.50      1.00      0.67         2\n",
        "     scheme       1.00      0.67      0.80         3\n",
        "        tcl       0.00      0.00      0.00         2\n",
        "\n",
        "avg / total       0.69      0.66      0.63        32\n",
        "\n",
        "[[3 0 0 0 0 0 0 0 1 0 0 0]\n",
        " [0 3 0 0 0 0 0 0 0 0 0 0]\n",
        " [0 0 2 0 0 0 0 0 0 0 0 0]\n",
        " [0 0 0 2 0 0 0 0 1 1 0 0]\n",
        " [0 0 0 0 2 0 0 0 0 0 0 0]\n",
        " [0 0 0 0 0 0 0 0 0 0 0 0]\n",
        " [0 0 3 0 0 0 0 0 0 0 0 0]\n",
        " [0 0 0 0 0 0 0 2 1 1 0 0]\n",
        " [0 0 0 0 0 0 0 0 3 0 0 0]\n",
        " [0 0 0 0 0 0 0 0 0 2 0 0]\n",
        " [0 0 0 1 0 0 0 0 0 0 2 0]\n",
        " [0 0 0 0 0 2 0 0 0 0 0 0]]\n",
        "0.633035714286\n"
       ]
      },
      {
       "output_type": "stream",
       "stream": "stderr",
       "text": [
        "/Users/johnmitsch/.pyenv/versions/sandbox/lib/python3.4/site-packages/sklearn/metrics/metrics.py:1771: UndefinedMetricWarning: Precision and F-score are ill-defined and being set to 0.0 in labels with no predicted samples.\n",
        "  'precision', 'predicted', average, warn_for)\n",
        "/Users/johnmitsch/.pyenv/versions/sandbox/lib/python3.4/site-packages/sklearn/metrics/metrics.py:1773: UndefinedMetricWarning: Recall and F-score are ill-defined and being set to 0.0 in labels with no true samples.\n",
        "  'recall', 'true', average, warn_for)\n",
        "/Users/johnmitsch/.pyenv/versions/sandbox/lib/python3.4/site-packages/sklearn/metrics/metrics.py:1771: UndefinedMetricWarning: F-score is ill-defined and being set to 0.0 in labels with no predicted samples.\n",
        "  'precision', 'predicted', average, warn_for)\n",
        "/Users/johnmitsch/.pyenv/versions/sandbox/lib/python3.4/site-packages/sklearn/metrics/metrics.py:1773: UndefinedMetricWarning: F-score is ill-defined and being set to 0.0 in labels with no true samples.\n",
        "  'recall', 'true', average, warn_for)\n"
       ]
      }
     ],
     "prompt_number": 157
    },
    {
     "cell_type": "code",
     "collapsed": false,
     "input": [
      "from sklearn.svm import LinearSVC\n",
      "\n",
      "classifier = LinearSVC()\n",
      "classifier = classifier.fit(train_feat2, train_lang)\n",
      "predicted = classifier.predict(test_feat2)\n",
      "\n",
      "print(metrics.classification_report(test_lang, predicted))\n",
      "print(metrics.confusion_matrix(test_lang, predicted))\n",
      "print(metrics.f1_score(test_lang, predicted))"
     ],
     "language": "python",
     "metadata": {},
     "outputs": []
    },
    {
     "cell_type": "code",
     "collapsed": false,
     "input": [],
     "language": "python",
     "metadata": {},
     "outputs": []
    }
   ],
   "metadata": {}
  }
 ]
}