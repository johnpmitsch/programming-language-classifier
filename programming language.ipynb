{
 "metadata": {
  "name": "",
  "signature": "sha256:2046de10f3c679edc27198dce6c16244198db211ba51ae7d552914cf6f3c1e3f"
 },
 "nbformat": 3,
 "nbformat_minor": 0,
 "worksheets": [
  {
   "cells": [
    {
     "cell_type": "code",
     "collapsed": false,
     "input": [
      "import os\n",
      "import numpy as np\n",
      "import pandas as pd"
     ],
     "language": "python",
     "metadata": {},
     "outputs": [],
     "prompt_number": 637
    },
    {
     "cell_type": "code",
     "collapsed": false,
     "input": [
      "ext_dict = {'clojure': ['.clj', '.clojure'],\n",
      "            'haskell': ['.hs', '.ghc'],\n",
      "            'java': ['.java'],\n",
      "            'javascript': ['.js', '.javascript'],\n",
      "            'ocaml': ['.ml', '.mli', '.ocaml'],\n",
      "            'scheme': ['.scm', '.racket', '.ss'],\n",
      "            'scala': ['.scala'],\n",
      "            'tcl': ['.tcl'],\n",
      "            'perl': ['.perl'],\n",
      "            'php': ['.php'],\n",
      "            'ruby': ['.rb', '.ruby', '.jruby'],\n",
      "            'python': ['.python3', '.python2', '.py']}"
     ],
     "language": "python",
     "metadata": {},
     "outputs": [],
     "prompt_number": 501
    },
    {
     "cell_type": "code",
     "collapsed": false,
     "input": [
      "def read_file(code_example):\n",
      "    \"\"\"Reads file and returns each line of the file as a list of strings\"\"\"\n",
      "    code = open(code_example, \"r\")\n",
      "    try:\n",
      "        return [line.strip('\\n') for line in code.readlines()]\n",
      "    except UnicodeDecodeError or TypeError:\n",
      "        print(\"UnicodeError\")"
     ],
     "language": "python",
     "metadata": {},
     "outputs": [],
     "prompt_number": 502
    },
    {
     "cell_type": "code",
     "collapsed": false,
     "input": [
      "def parenthesis_count(code_example):\n",
      "    count = 0\n",
      "    for line in code_example:\n",
      "        for char in line:\n",
      "            if char == ')' or '(':\n",
      "                count += 1\n",
      "    return count"
     ],
     "language": "python",
     "metadata": {},
     "outputs": [],
     "prompt_number": 503
    },
    {
     "cell_type": "code",
     "collapsed": false,
     "input": [
      "def type_of_file(ext, ext_dict):\n",
      "    \"\"\"Determines the type of file based on an extension dictionary\"\"\"\n",
      "    for key, value in ext_dict.items():\n",
      "        if ext in value:\n",
      "            return key"
     ],
     "language": "python",
     "metadata": {},
     "outputs": [],
     "prompt_number": 504
    },
    {
     "cell_type": "code",
     "collapsed": false,
     "input": [
      "type_of_file('.python3', ext_dict)"
     ],
     "language": "python",
     "metadata": {},
     "outputs": [
      {
       "metadata": {},
       "output_type": "pyout",
       "prompt_number": 505,
       "text": [
        "'python'"
       ]
      }
     ],
     "prompt_number": 505
    },
    {
     "cell_type": "code",
     "collapsed": false,
     "input": [
      "def iterate_files(root_directory):\n",
      "    file_types = []\n",
      "    for root, directory, files in os.walk(root_directory):\n",
      "        for code_file in files:\n",
      "            file_name, extension = os.path.splitext(code_file)\n",
      "            if extension in [ext for lst in ext_dict.values() for ext in lst]:\n",
      "                snippet = read_file(root + '/' + code_file)\n",
      "                file_types.append(type_of_file(str(extension), ext_dict))\n",
      "    return file_types"
     ],
     "language": "python",
     "metadata": {},
     "outputs": [],
     "prompt_number": 506
    },
    {
     "cell_type": "code",
     "collapsed": false,
     "input": [
      "binary_trees = read_file(\"bench/binarytrees/binarytrees.php\")"
     ],
     "language": "python",
     "metadata": {},
     "outputs": [],
     "prompt_number": 508
    },
    {
     "cell_type": "code",
     "collapsed": false,
     "input": [
      "parenthesis_count(binary_trees)"
     ],
     "language": "python",
     "metadata": {},
     "outputs": [
      {
       "metadata": {},
       "output_type": "pyout",
       "prompt_number": 509,
       "text": [
        "1509"
       ]
      }
     ],
     "prompt_number": 509
    },
    {
     "cell_type": "code",
     "collapsed": false,
     "input": [
      "len(file_types)"
     ],
     "language": "python",
     "metadata": {},
     "outputs": [
      {
       "metadata": {},
       "output_type": "pyout",
       "prompt_number": 510,
       "text": [
        "287"
       ]
      }
     ],
     "prompt_number": 510
    },
    {
     "cell_type": "code",
     "collapsed": false,
     "input": [
      "import collections\n",
      "import operator\n",
      "import string"
     ],
     "language": "python",
     "metadata": {},
     "outputs": [],
     "prompt_number": 511
    },
    {
     "cell_type": "code",
     "collapsed": false,
     "input": [
      "def n_grams(code_file, length):\n",
      "    gram_list = []\n",
      "    for line in code_file:\n",
      "        for i in range(len(line) - length):\n",
      "            gram = line[i:i+length]\n",
      "            grams = list(gram)\n",
      "            punctuation_list = list(string.punctuation)\n",
      "            if set(grams) < set(punctuation_list) :\n",
      "                gram_list.append(gram)\n",
      "    return gram_list    \n",
      "    "
     ],
     "language": "python",
     "metadata": {},
     "outputs": [],
     "prompt_number": 512
    },
    {
     "cell_type": "code",
     "collapsed": false,
     "input": [
      "binary_trees_3 = n_grams(binary_trees, 1)"
     ],
     "language": "python",
     "metadata": {},
     "outputs": [],
     "prompt_number": 513
    },
    {
     "cell_type": "code",
     "collapsed": false,
     "input": [
      "def top_values(lst):\n",
      "    char_list = []\n",
      "    value_dict = collections.defaultdict(lambda: 0) \n",
      "    for value in lst:\n",
      "        value_dict[value] += 1\n",
      "    tup_list = sorted(value_dict.items(), key=operator.itemgetter(1), reverse=True)\n",
      "    for i in range(10):\n",
      "        try:\n",
      "            char_list.append(tup_list[i][0])\n",
      "        except IndexError:\n",
      "            return char_list\n",
      "    return char_list"
     ],
     "language": "python",
     "metadata": {},
     "outputs": [],
     "prompt_number": 515
    },
    {
     "cell_type": "code",
     "collapsed": false,
     "input": [
      "top_values(binary_trees_3)"
     ],
     "language": "python",
     "metadata": {},
     "outputs": [
      {
       "metadata": {},
       "output_type": "pyout",
       "prompt_number": 516,
       "text": [
        "['$', '=', '(', ')', '-', '>', ',', '+', '<', ':']"
       ]
      }
     ],
     "prompt_number": 516
    },
    {
     "cell_type": "code",
     "collapsed": false,
     "input": [
      "string.punctuation"
     ],
     "language": "python",
     "metadata": {},
     "outputs": [
      {
       "metadata": {},
       "output_type": "pyout",
       "prompt_number": 517,
       "text": [
        "'!\"#$%&\\'()*+,-./:;<=>?@[\\\\]^_`{|}~'"
       ]
      }
     ],
     "prompt_number": 517
    },
    {
     "cell_type": "code",
     "collapsed": false,
     "input": [
      "punctuation_list = list(string.punctuation)"
     ],
     "language": "python",
     "metadata": {},
     "outputs": [],
     "prompt_number": 518
    },
    {
     "cell_type": "code",
     "collapsed": false,
     "input": [
      "set([\"(\",\")\"]).issubset(punctuation_list)"
     ],
     "language": "python",
     "metadata": {},
     "outputs": [
      {
       "metadata": {},
       "output_type": "pyout",
       "prompt_number": 519,
       "text": [
        "True"
       ]
      }
     ],
     "prompt_number": 519
    },
    {
     "cell_type": "code",
     "collapsed": false,
     "input": [
      "def find_common_characters(language, characters, root_dir):\n",
      "    file_types = []\n",
      "    character_list = []\n",
      "    for root, directory, files in os.walk(root_dir):\n",
      "        for code_file in files:\n",
      "            file_name, extension = os.path.splitext(code_file)\n",
      "            if extension in [ext for ext in ext_dict[language]]:\n",
      "                snippet = read_file(root + '/' + code_file)\n",
      "                character_list.extend(n_grams(snippet, characters))\n",
      "    return character_list"
     ],
     "language": "python",
     "metadata": {},
     "outputs": [],
     "prompt_number": 655
    },
    {
     "cell_type": "code",
     "collapsed": false,
     "input": [
      "oc = find_common_characters(\"ocaml\", 4, 'bench')"
     ],
     "language": "python",
     "metadata": {},
     "outputs": [],
     "prompt_number": 656
    },
    {
     "cell_type": "code",
     "collapsed": false,
     "input": [
      "top_values(python_2)"
     ],
     "language": "python",
     "metadata": {},
     "outputs": [
      {
       "metadata": {},
       "output_type": "pyout",
       "prompt_number": 657,
       "text": [
        "['[::-',\n",
        " '())]',\n",
        " '\">;\"',\n",
        " '__==',\n",
        " '[[[]',\n",
        " '()),',\n",
        " \"(''.\",\n",
        " '>.*\\\\',\n",
        " \"='{}\",\n",
        " \"=='_\"]"
       ]
      }
     ],
     "prompt_number": 657
    },
    {
     "cell_type": "code",
     "collapsed": false,
     "input": [
      "def get_top_value_lists(language):\n",
      "    four = find_common_characters(language, 4, 'bench')\n",
      "    four_list = top_values(four)\n",
      "    three = find_common_characters(language, 3, 'bench')\n",
      "    three_list = top_values(three)\n",
      "    two = find_common_characters(language, 2, 'bench')\n",
      "    two_list = top_values(two)\n",
      "    one = find_common_characters(language, 1, 'bench')\n",
      "    one_list = top_values(one)\n",
      "    return one_list[0:10], two_list[0:10], three_list[0:10], four_list[0:10]\n",
      "    "
     ],
     "language": "python",
     "metadata": {},
     "outputs": [],
     "prompt_number": 658
    },
    {
     "cell_type": "code",
     "collapsed": false,
     "input": [
      "py1, py2, py3, py4 = get_top_value_lists(\"python\")"
     ],
     "language": "python",
     "metadata": {},
     "outputs": [],
     "prompt_number": 659
    },
    {
     "cell_type": "code",
     "collapsed": false,
     "input": [
      "cloj1, cloj2, cloj3, cloj4 = get_top_value_lists(\"clojure\")"
     ],
     "language": "python",
     "metadata": {},
     "outputs": [],
     "prompt_number": 660
    },
    {
     "cell_type": "code",
     "collapsed": false,
     "input": [
      "hask1, hask2, hask3, hask4 = get_top_value_lists(\"haskell\")"
     ],
     "language": "python",
     "metadata": {},
     "outputs": [],
     "prompt_number": 661
    },
    {
     "cell_type": "code",
     "collapsed": false,
     "input": [
      "java1, java2, java3, java4 = get_top_value_lists(\"java\")"
     ],
     "language": "python",
     "metadata": {},
     "outputs": [],
     "prompt_number": 662
    },
    {
     "cell_type": "code",
     "collapsed": false,
     "input": [
      "js1, js2, js3, js4 = get_top_value_lists(\"javascript\")"
     ],
     "language": "python",
     "metadata": {},
     "outputs": [],
     "prompt_number": 663
    },
    {
     "cell_type": "code",
     "collapsed": false,
     "input": [
      "oc1, oc2, oc3, oc4 = get_top_value_lists(\"ocaml\")"
     ],
     "language": "python",
     "metadata": {},
     "outputs": [],
     "prompt_number": 664
    },
    {
     "cell_type": "code",
     "collapsed": false,
     "input": [
      "scm1, scm2, scm3, scm4 = get_top_value_lists(\"scheme\")"
     ],
     "language": "python",
     "metadata": {},
     "outputs": [],
     "prompt_number": 665
    },
    {
     "cell_type": "code",
     "collapsed": false,
     "input": [
      "scal1, scal2, scal3, scal4 = get_top_value_lists(\"scala\")"
     ],
     "language": "python",
     "metadata": {},
     "outputs": [],
     "prompt_number": 666
    },
    {
     "cell_type": "code",
     "collapsed": false,
     "input": [
      "perl1, perl2, perl3, perl4 = get_top_value_lists(\"perl\")"
     ],
     "language": "python",
     "metadata": {},
     "outputs": [],
     "prompt_number": 667
    },
    {
     "cell_type": "code",
     "collapsed": false,
     "input": [
      "php1, php2, php3, php4 = get_top_value_lists(\"php\")"
     ],
     "language": "python",
     "metadata": {},
     "outputs": [],
     "prompt_number": 668
    },
    {
     "cell_type": "code",
     "collapsed": false,
     "input": [
      "rb1, rb2, rb3, rb4 = get_top_value_lists(\"ruby\")"
     ],
     "language": "python",
     "metadata": {},
     "outputs": [],
     "prompt_number": 669
    },
    {
     "cell_type": "code",
     "collapsed": false,
     "input": [
      "top_characters_per_language = [py1, py2, py3, py4, cloj1, cloj2, cloj3, cloj4, hask1, hask2, hask3, hask4,\n",
      "                               java1, java2, java3, java4, js1, js2, js3, js4, oc1, oc2, oc3, oc4, scm1,\n",
      "                               scm2, scm3, scm4, scal1, scal2, scal3, scal4, perl1, perl2, perl3, perl4,\n",
      "                               php1, php2, php3, php4, rb1, rb2, rb3, rb4] "
     ],
     "language": "python",
     "metadata": {},
     "outputs": [],
     "prompt_number": 535
    },
    {
     "cell_type": "code",
     "collapsed": false,
     "input": [
      "def check_snippet(snippet, char_list, length):\n",
      "    count = 0\n",
      "    print(snippet)\n",
      "    for line in snippet:\n",
      "        for i in range(len(line) - length):\n",
      "            if line[i:i+length] in char_list:\n",
      "                count += 1\n",
      "    return count"
     ],
     "language": "python",
     "metadata": {},
     "outputs": [],
     "prompt_number": 693
    },
    {
     "cell_type": "code",
     "collapsed": false,
     "input": [
      "test_2_file = read_file('test/2')"
     ],
     "language": "python",
     "metadata": {},
     "outputs": [],
     "prompt_number": 702
    },
    {
     "cell_type": "code",
     "collapsed": false,
     "input": [
      "len(test_2_file)"
     ],
     "language": "python",
     "metadata": {},
     "outputs": [
      {
       "metadata": {},
       "output_type": "pyout",
       "prompt_number": 706,
       "text": [
        "9"
       ]
      }
     ],
     "prompt_number": 706
    },
    {
     "cell_type": "code",
     "collapsed": false,
     "input": [
      "check_snippet(test_1_file, cloj1, 1)"
     ],
     "language": "python",
     "metadata": {},
     "outputs": [
      {
       "output_type": "stream",
       "stream": "stdout",
       "text": [
        "['(defn cf-settings', '  \"Setup settings for campfire. Required information is your api-token, ssl connection', '  true or false, and your campfire sub-domain.\"', '  [token ssl sub-domain]', '  {:api-token token, :ssl ssl, :sub-domain sub-domain})', '', '(defn room', '  \"Sets up the room to send events too. Pass in the settings created with cf-settings', '  and the room name\"', '  [settings room-name]', '  (cf/room-by-name settings room-name))', '', '(defn campfire_message', '  \"Formats an event into a string\"', '  [e]', '  (str (join \" \" [\"Riemann alert on\" (str (:host e)) \"-\" (str (:service e)) \"is\" (upper-case (str (:state e))) \"- Description:\" (str (:description e))])))', '', '(defn campfire', '  \"Creates an adaptor to forward events to campfire. The campfire event will', '  contain the host, state, service, metric and description.', '  Tested with:', '  (streams', '    (by [:host, :service]', '      (let [camp (campfire \\\\\"token\\\\\", true, \\\\\"sub-domain\\\\\", \\\\\"room\\\\\")]', '        camp)))\"', '  [token ssl sub-domain room-name]', '  (fn [e]', '    (let [message_string (campfire_message e)', '          settings (cf-settings token ssl sub-domain)]', '      (cf/message (room settings room-name) message_string))))']\n"
       ]
      },
      {
       "metadata": {},
       "output_type": "pyout",
       "prompt_number": 710,
       "text": [
        "111"
       ]
      }
     ],
     "prompt_number": 710
    },
    {
     "cell_type": "code",
     "collapsed": false,
     "input": [
      "def get_features(char_list, number, root_dir):\n",
      "    features = []\n",
      "    for root, directory, files in os.walk(root_dir):\n",
      "        for code_file in files:\n",
      "            file_name, extension = os.path.splitext(code_file)\n",
      "            snippet = read_file(root + '/' + code_file)\n",
      "            count = check_snippet(snippet, char_list, number) \n",
      "            features.append(count)\n",
      "    return features\n",
      "                "
     ],
     "language": "python",
     "metadata": {},
     "outputs": [],
     "prompt_number": 711
    },
    {
     "cell_type": "code",
     "collapsed": false,
     "input": [
      "def create_feature_array(char_list, root_dir):\n",
      "    \"\"\"Creates a multi-dimensional array of features for machine learning. \n",
      "    char_list is a list of comparison values, the function iterates through\n",
      "    each list and compares each file in the root directory argument to it\"\"\"\n",
      "    feature_array = []\n",
      "    count = 0\n",
      "    for lst in char_list:\n",
      "        feature = get_features(lst, (count%4 + 1), root_dir)\n",
      "        count +=1\n",
      "        feature_array.append(feature)\n",
      "    return feature_array"
     ],
     "language": "python",
     "metadata": {},
     "outputs": [],
     "prompt_number": 673
    },
    {
     "cell_type": "code",
     "collapsed": false,
     "input": [
      "def create_test_feature_array(char_list, root_dir):\n",
      "    \"\"\"Creates a multi-dimensional array of features for machine learning. \n",
      "    char_list is a list of comparison values, the function iterates through\n",
      "    each list and compares each file in the root directory argument to it\"\"\"\n",
      "    feature_array = []\n",
      "    count = 0\n",
      "    for lst in char_list:\n",
      "        print(lst)\n",
      "        feature = get_test_features(lst, (count%4 + 1), root_dir)\n",
      "        count +=1\n",
      "        feature_array.append(feature)\n",
      "    return feature_array"
     ],
     "language": "python",
     "metadata": {},
     "outputs": [],
     "prompt_number": 690
    },
    {
     "cell_type": "code",
     "collapsed": false,
     "input": [
      "train_features = create_feature_array(top_characters_per_language, 'bench')"
     ],
     "language": "python",
     "metadata": {},
     "outputs": [],
     "prompt_number": 674
    },
    {
     "cell_type": "code",
     "collapsed": false,
     "input": [
      "test_features = create_test_feature_array(top_characters_per_language, 'test')"
     ],
     "language": "python",
     "metadata": {},
     "outputs": [
      {
       "output_type": "stream",
       "stream": "stdout",
       "text": [
        "['(', '=', ',', '_', ')', '.', '[', \"'\", ']', '#']\n",
        "UnicodeError\n",
        "None\n"
       ]
      },
      {
       "ename": "TypeError",
       "evalue": "'NoneType' object is not iterable",
       "output_type": "pyerr",
       "traceback": [
        "\u001b[0;31m---------------------------------------------------------------------------\u001b[0m\n\u001b[0;31mTypeError\u001b[0m                                 Traceback (most recent call last)",
        "\u001b[0;32m<ipython-input-694-b0831d1ff1c1>\u001b[0m in \u001b[0;36m<module>\u001b[0;34m()\u001b[0m\n\u001b[0;32m----> 1\u001b[0;31m \u001b[0mtest_features\u001b[0m \u001b[0;34m=\u001b[0m \u001b[0mcreate_test_feature_array\u001b[0m\u001b[0;34m(\u001b[0m\u001b[0mtop_characters_per_language\u001b[0m\u001b[0;34m,\u001b[0m \u001b[0;34m'test'\u001b[0m\u001b[0;34m)\u001b[0m\u001b[0;34m\u001b[0m\u001b[0m\n\u001b[0m",
        "\u001b[0;32m<ipython-input-690-ebb4eb1b847f>\u001b[0m in \u001b[0;36mcreate_test_feature_array\u001b[0;34m(char_list, root_dir)\u001b[0m\n\u001b[1;32m      7\u001b[0m     \u001b[0;32mfor\u001b[0m \u001b[0mlst\u001b[0m \u001b[0;32min\u001b[0m \u001b[0mchar_list\u001b[0m\u001b[0;34m:\u001b[0m\u001b[0;34m\u001b[0m\u001b[0m\n\u001b[1;32m      8\u001b[0m         \u001b[0mprint\u001b[0m\u001b[0;34m(\u001b[0m\u001b[0mlst\u001b[0m\u001b[0;34m)\u001b[0m\u001b[0;34m\u001b[0m\u001b[0m\n\u001b[0;32m----> 9\u001b[0;31m         \u001b[0mfeature\u001b[0m \u001b[0;34m=\u001b[0m \u001b[0mget_test_features\u001b[0m\u001b[0;34m(\u001b[0m\u001b[0mlst\u001b[0m\u001b[0;34m,\u001b[0m \u001b[0;34m(\u001b[0m\u001b[0mcount\u001b[0m\u001b[0;34m%\u001b[0m\u001b[0;36m4\u001b[0m \u001b[0;34m+\u001b[0m \u001b[0;36m1\u001b[0m\u001b[0;34m)\u001b[0m\u001b[0;34m,\u001b[0m \u001b[0mroot_dir\u001b[0m\u001b[0;34m)\u001b[0m\u001b[0;34m\u001b[0m\u001b[0m\n\u001b[0m\u001b[1;32m     10\u001b[0m         \u001b[0mcount\u001b[0m \u001b[0;34m+=\u001b[0m\u001b[0;36m1\u001b[0m\u001b[0;34m\u001b[0m\u001b[0m\n\u001b[1;32m     11\u001b[0m         \u001b[0mfeature_array\u001b[0m\u001b[0;34m.\u001b[0m\u001b[0mappend\u001b[0m\u001b[0;34m(\u001b[0m\u001b[0mfeature\u001b[0m\u001b[0;34m)\u001b[0m\u001b[0;34m\u001b[0m\u001b[0m\n",
        "\u001b[0;32m<ipython-input-689-0c3e86f1e6d0>\u001b[0m in \u001b[0;36mget_test_features\u001b[0;34m(char_list, number, root_dir)\u001b[0m\n\u001b[1;32m      5\u001b[0m             \u001b[0mfile_name\u001b[0m\u001b[0;34m,\u001b[0m \u001b[0mextension\u001b[0m \u001b[0;34m=\u001b[0m \u001b[0mos\u001b[0m\u001b[0;34m.\u001b[0m\u001b[0mpath\u001b[0m\u001b[0;34m.\u001b[0m\u001b[0msplitext\u001b[0m\u001b[0;34m(\u001b[0m\u001b[0mcode_file\u001b[0m\u001b[0;34m)\u001b[0m\u001b[0;34m\u001b[0m\u001b[0m\n\u001b[1;32m      6\u001b[0m             \u001b[0msnippet\u001b[0m \u001b[0;34m=\u001b[0m \u001b[0mread_file\u001b[0m\u001b[0;34m(\u001b[0m\u001b[0mroot\u001b[0m \u001b[0;34m+\u001b[0m \u001b[0;34m'/'\u001b[0m \u001b[0;34m+\u001b[0m \u001b[0mcode_file\u001b[0m\u001b[0;34m)\u001b[0m\u001b[0;34m\u001b[0m\u001b[0m\n\u001b[0;32m----> 7\u001b[0;31m             \u001b[0mcount\u001b[0m \u001b[0;34m=\u001b[0m \u001b[0mcheck_snippet\u001b[0m\u001b[0;34m(\u001b[0m\u001b[0msnippet\u001b[0m\u001b[0;34m,\u001b[0m \u001b[0mchar_list\u001b[0m\u001b[0;34m,\u001b[0m \u001b[0mnumber\u001b[0m\u001b[0;34m)\u001b[0m\u001b[0;34m\u001b[0m\u001b[0m\n\u001b[0m\u001b[1;32m      8\u001b[0m             \u001b[0mfeatures\u001b[0m\u001b[0;34m.\u001b[0m\u001b[0mappend\u001b[0m\u001b[0;34m(\u001b[0m\u001b[0mcount\u001b[0m\u001b[0;34m)\u001b[0m\u001b[0;34m\u001b[0m\u001b[0m\n\u001b[1;32m      9\u001b[0m     \u001b[0;32mreturn\u001b[0m \u001b[0mfeatures\u001b[0m\u001b[0;34m\u001b[0m\u001b[0m\n",
        "\u001b[0;32m<ipython-input-693-eed79517eab5>\u001b[0m in \u001b[0;36mcheck_snippet\u001b[0;34m(snippet, char_list, length)\u001b[0m\n\u001b[1;32m      2\u001b[0m     \u001b[0mcount\u001b[0m \u001b[0;34m=\u001b[0m \u001b[0;36m0\u001b[0m\u001b[0;34m\u001b[0m\u001b[0m\n\u001b[1;32m      3\u001b[0m     \u001b[0mprint\u001b[0m\u001b[0;34m(\u001b[0m\u001b[0msnippet\u001b[0m\u001b[0;34m)\u001b[0m\u001b[0;34m\u001b[0m\u001b[0m\n\u001b[0;32m----> 4\u001b[0;31m     \u001b[0;32mfor\u001b[0m \u001b[0mline\u001b[0m \u001b[0;32min\u001b[0m \u001b[0msnippet\u001b[0m\u001b[0;34m:\u001b[0m\u001b[0;34m\u001b[0m\u001b[0m\n\u001b[0m\u001b[1;32m      5\u001b[0m         \u001b[0;32mfor\u001b[0m \u001b[0mi\u001b[0m \u001b[0;32min\u001b[0m \u001b[0mrange\u001b[0m\u001b[0;34m(\u001b[0m\u001b[0mlen\u001b[0m\u001b[0;34m(\u001b[0m\u001b[0mline\u001b[0m\u001b[0;34m)\u001b[0m \u001b[0;34m-\u001b[0m \u001b[0mlength\u001b[0m\u001b[0;34m)\u001b[0m\u001b[0;34m:\u001b[0m\u001b[0;34m\u001b[0m\u001b[0m\n\u001b[1;32m      6\u001b[0m             \u001b[0;32mif\u001b[0m \u001b[0mline\u001b[0m\u001b[0;34m[\u001b[0m\u001b[0mi\u001b[0m\u001b[0;34m:\u001b[0m\u001b[0mi\u001b[0m\u001b[0;34m+\u001b[0m\u001b[0mlength\u001b[0m\u001b[0;34m]\u001b[0m \u001b[0;32min\u001b[0m \u001b[0mchar_list\u001b[0m\u001b[0;34m:\u001b[0m\u001b[0;34m\u001b[0m\u001b[0m\n",
        "\u001b[0;31mTypeError\u001b[0m: 'NoneType' object is not iterable"
       ]
      }
     ],
     "prompt_number": 694
    },
    {
     "cell_type": "code",
     "collapsed": false,
     "input": [
      "test_features"
     ],
     "language": "python",
     "metadata": {},
     "outputs": [
      {
       "metadata": {},
       "output_type": "pyout",
       "prompt_number": 687,
       "text": [
        "[[],\n",
        " [],\n",
        " [],\n",
        " [],\n",
        " [],\n",
        " [],\n",
        " [],\n",
        " [],\n",
        " [],\n",
        " [],\n",
        " [],\n",
        " [],\n",
        " [],\n",
        " [],\n",
        " [],\n",
        " [],\n",
        " [],\n",
        " [],\n",
        " [],\n",
        " [],\n",
        " [],\n",
        " [],\n",
        " [],\n",
        " [],\n",
        " [],\n",
        " [],\n",
        " [],\n",
        " [],\n",
        " [],\n",
        " [],\n",
        " [],\n",
        " [],\n",
        " [],\n",
        " [],\n",
        " [],\n",
        " [],\n",
        " [],\n",
        " [],\n",
        " [],\n",
        " [],\n",
        " [],\n",
        " [],\n",
        " [],\n",
        " []]"
       ]
      }
     ],
     "prompt_number": 687
    },
    {
     "cell_type": "code",
     "collapsed": false,
     "input": [
      "len(file_types)"
     ],
     "language": "python",
     "metadata": {},
     "outputs": [
      {
       "metadata": {},
       "output_type": "pyout",
       "prompt_number": 612,
       "text": [
        "386"
       ]
      }
     ],
     "prompt_number": 612
    },
    {
     "cell_type": "code",
     "collapsed": false,
     "input": [
      "len(feature_array[0])"
     ],
     "language": "python",
     "metadata": {},
     "outputs": [
      {
       "metadata": {},
       "output_type": "pyout",
       "prompt_number": 620,
       "text": [
        "386"
       ]
      }
     ],
     "prompt_number": 620
    },
    {
     "cell_type": "code",
     "collapsed": false,
     "input": [
      "feature_matrix = np.array(feature_array)"
     ],
     "language": "python",
     "metadata": {},
     "outputs": [],
     "prompt_number": 621
    },
    {
     "cell_type": "code",
     "collapsed": false,
     "input": [
      "feature_matrix.shape"
     ],
     "language": "python",
     "metadata": {},
     "outputs": [
      {
       "metadata": {},
       "output_type": "pyout",
       "prompt_number": 623,
       "text": [
        "(44, 386)"
       ]
      }
     ],
     "prompt_number": 623
    },
    {
     "cell_type": "code",
     "collapsed": false,
     "input": [
      "feature_matrix = feature_matrix.transpose()"
     ],
     "language": "python",
     "metadata": {},
     "outputs": [],
     "prompt_number": 624
    },
    {
     "cell_type": "code",
     "collapsed": false,
     "input": [
      "from sklearn.cross_validation import train_test_split\n",
      "from sklearn.naive_bayes import GaussianNB\n",
      "from sklearn import metrics\n",
      "from sklearn.cross_validation import cross_val_score"
     ],
     "language": "python",
     "metadata": {},
     "outputs": [],
     "prompt_number": 625
    },
    {
     "cell_type": "code",
     "collapsed": false,
     "input": [
      "x_train, x_test, y_train, y_test = train_test_split(feature_matrix, file_types, test_size=0.4, random_state=0)"
     ],
     "language": "python",
     "metadata": {},
     "outputs": [],
     "prompt_number": 626
    },
    {
     "cell_type": "code",
     "collapsed": false,
     "input": [
      "from sklearn.ensemble import RandomForestClassifier\n",
      "\n",
      "classifier = RandomForestClassifier()\n",
      "classifier = classifier.fit(x_train, y_train)\n",
      "predicted = classifier.predict(x_test)\n",
      "\n",
      "print(metrics.classification_report(y_test, predicted))\n",
      "print(metrics.confusion_matrix(y_test, predicted))\n",
      "print(metrics.f1_score(y_test, predicted))"
     ],
     "language": "python",
     "metadata": {},
     "outputs": [
      {
       "output_type": "stream",
       "stream": "stdout",
       "text": [
        "             precision    recall  f1-score   support\n",
        "\n",
        "    clojure       1.00      0.75      0.86        16\n",
        "    haskell       0.76      1.00      0.87        13\n",
        "       java       0.58      0.74      0.65        19\n",
        " javascript       0.17      0.08      0.11        12\n",
        "      ocaml       0.89      0.57      0.70        14\n",
        "       perl       0.92      0.65      0.76        17\n",
        "        php       0.85      0.85      0.85        13\n",
        "     python       0.55      0.85      0.67        13\n",
        "       ruby       0.81      0.81      0.81        16\n",
        "      scala       0.69      0.73      0.71        15\n",
        "     scheme       0.70      1.00      0.82         7\n",
        "\n",
        "avg / total       0.73      0.72      0.71       155\n",
        "\n",
        "[[12  0  0  0  1  0  0  0  0  0  3]\n",
        " [ 0 13  0  0  0  0  0  0  0  0  0]\n",
        " [ 0  0 14  4  0  0  0  0  0  1  0]\n",
        " [ 0  0  5  1  0  0  1  3  0  2  0]\n",
        " [ 0  1  2  0  8  0  0  2  0  1  0]\n",
        " [ 0  0  1  0  0 11  1  1  3  0  0]\n",
        " [ 0  2  0  0  0  0 11  0  0  0  0]\n",
        " [ 0  0  2  0  0  0  0 11  0  0  0]\n",
        " [ 0  0  0  0  0  0  0  2 13  1  0]\n",
        " [ 0  1  0  1  0  1  0  1  0 11  0]\n",
        " [ 0  0  0  0  0  0  0  0  0  0  7]]\n",
        "0.712248998296\n"
       ]
      }
     ],
     "prompt_number": 629
    },
    {
     "cell_type": "code",
     "collapsed": false,
     "input": [
      "from sklearn.svm import LinearSVC\n",
      "\n",
      "classifier = LinearSVC()\n",
      "classifier = classifier.fit(x_train, y_train)\n",
      "predicted = classifier.predict(x_test)\n",
      "\n",
      "print(metrics.classification_report(y_test, predicted))\n",
      "print(metrics.confusion_matrix(y_test, predicted))\n",
      "print(metrics.f1_score(y_test, predicted))"
     ],
     "language": "python",
     "metadata": {},
     "outputs": [
      {
       "output_type": "stream",
       "stream": "stdout",
       "text": [
        "             precision    recall  f1-score   support\n",
        "\n",
        "    clojure       1.00      0.94      0.97        16\n",
        "    haskell       1.00      0.92      0.96        13\n",
        "       java       0.47      1.00      0.64        19\n",
        " javascript       0.33      0.08      0.13        12\n",
        "      ocaml       1.00      1.00      1.00        14\n",
        "       perl       0.93      0.82      0.87        17\n",
        "        php       0.73      0.85      0.79        13\n",
        "     python       1.00      0.31      0.47        13\n",
        "       ruby       0.89      1.00      0.94        16\n",
        "      scala       0.80      0.53      0.64        15\n",
        "     scheme       0.78      1.00      0.88         7\n",
        "\n",
        "avg / total       0.81      0.78      0.76       155\n",
        "\n",
        "[[15  0  1  0  0  0  0  0  0  0  0]\n",
        " [ 0 12  0  1  0  0  0  0  0  0  0]\n",
        " [ 0  0 19  0  0  0  0  0  0  0  0]\n",
        " [ 0  0  7  1  0  0  1  0  0  1  2]\n",
        " [ 0  0  0  0 14  0  0  0  0  0  0]\n",
        " [ 0  0  0  0  0 14  3  0  0  0  0]\n",
        " [ 0  0  0  1  0  1 11  0  0  0  0]\n",
        " [ 0  0  6  0  0  0  0  4  2  1  0]\n",
        " [ 0  0  0  0  0  0  0  0 16  0  0]\n",
        " [ 0  0  7  0  0  0  0  0  0  8  0]\n",
        " [ 0  0  0  0  0  0  0  0  0  0  7]]\n",
        "0.759947841328\n"
       ]
      }
     ],
     "prompt_number": 630
    },
    {
     "cell_type": "code",
     "collapsed": false,
     "input": [
      "testing = pd.read_csv(\"test.csv\")"
     ],
     "language": "python",
     "metadata": {},
     "outputs": [],
     "prompt_number": 638
    },
    {
     "cell_type": "code",
     "collapsed": false,
     "input": [
      "testing.head()"
     ],
     "language": "python",
     "metadata": {},
     "outputs": [
      {
       "html": [
        "<div style=\"max-height:1000px;max-width:1500px;overflow:auto;\">\n",
        "<table border=\"1\" class=\"dataframe\">\n",
        "  <thead>\n",
        "    <tr style=\"text-align: right;\">\n",
        "      <th></th>\n",
        "      <th>Filename</th>\n",
        "      <th>Language</th>\n",
        "    </tr>\n",
        "  </thead>\n",
        "  <tbody>\n",
        "    <tr>\n",
        "      <th>0</th>\n",
        "      <td> 1</td>\n",
        "      <td> clojure</td>\n",
        "    </tr>\n",
        "    <tr>\n",
        "      <th>1</th>\n",
        "      <td> 2</td>\n",
        "      <td> clojure</td>\n",
        "    </tr>\n",
        "    <tr>\n",
        "      <th>2</th>\n",
        "      <td> 3</td>\n",
        "      <td> clojure</td>\n",
        "    </tr>\n",
        "    <tr>\n",
        "      <th>3</th>\n",
        "      <td> 4</td>\n",
        "      <td> clojure</td>\n",
        "    </tr>\n",
        "    <tr>\n",
        "      <th>4</th>\n",
        "      <td> 5</td>\n",
        "      <td>  python</td>\n",
        "    </tr>\n",
        "  </tbody>\n",
        "</table>\n",
        "</div>"
       ],
       "metadata": {},
       "output_type": "pyout",
       "prompt_number": 642,
       "text": [
        "   Filename Language\n",
        "0         1  clojure\n",
        "1         2  clojure\n",
        "2         3  clojure\n",
        "3         4  clojure\n",
        "4         5   python"
       ]
      }
     ],
     "prompt_number": 642
    },
    {
     "cell_type": "code",
     "collapsed": false,
     "input": [
      "test_files = testing['Filename']"
     ],
     "language": "python",
     "metadata": {},
     "outputs": [],
     "prompt_number": 644
    },
    {
     "cell_type": "code",
     "collapsed": false,
     "input": [
      "test_lang = testing['Language']"
     ],
     "language": "python",
     "metadata": {},
     "outputs": [],
     "prompt_number": 645
    },
    {
     "cell_type": "code",
     "collapsed": false,
     "input": [
      "len(test_files)"
     ],
     "language": "python",
     "metadata": {},
     "outputs": [
      {
       "metadata": {},
       "output_type": "pyout",
       "prompt_number": 648,
       "text": [
        "32"
       ]
      }
     ],
     "prompt_number": 648
    },
    {
     "cell_type": "code",
     "collapsed": false,
     "input": [
      "from sklearn.svm import LinearSVC\n",
      "\n",
      "classifier = LinearSVC()\n",
      "classifier = classifier.fit(feature_matrix, file_types)\n",
      "predicted = classifier.predict(test_files)\n",
      "\n",
      "print(metrics.classification_report(test_lang, predicted))\n",
      "print(metrics.confusion_matrix(test_lang, predicted))\n",
      "print(metrics.f1_score(test_lang, predicted))"
     ],
     "language": "python",
     "metadata": {},
     "outputs": [
      {
       "ename": "ValueError",
       "evalue": "X has 32 features per sample; expecting 44",
       "output_type": "pyerr",
       "traceback": [
        "\u001b[0;31m---------------------------------------------------------------------------\u001b[0m\n\u001b[0;31mValueError\u001b[0m                                Traceback (most recent call last)",
        "\u001b[0;32m<ipython-input-646-90b8d7b69d88>\u001b[0m in \u001b[0;36m<module>\u001b[0;34m()\u001b[0m\n\u001b[1;32m      3\u001b[0m \u001b[0mclassifier\u001b[0m \u001b[0;34m=\u001b[0m \u001b[0mLinearSVC\u001b[0m\u001b[0;34m(\u001b[0m\u001b[0;34m)\u001b[0m\u001b[0;34m\u001b[0m\u001b[0m\n\u001b[1;32m      4\u001b[0m \u001b[0mclassifier\u001b[0m \u001b[0;34m=\u001b[0m \u001b[0mclassifier\u001b[0m\u001b[0;34m.\u001b[0m\u001b[0mfit\u001b[0m\u001b[0;34m(\u001b[0m\u001b[0mfeature_matrix\u001b[0m\u001b[0;34m,\u001b[0m \u001b[0mfile_types\u001b[0m\u001b[0;34m)\u001b[0m\u001b[0;34m\u001b[0m\u001b[0m\n\u001b[0;32m----> 5\u001b[0;31m \u001b[0mpredicted\u001b[0m \u001b[0;34m=\u001b[0m \u001b[0mclassifier\u001b[0m\u001b[0;34m.\u001b[0m\u001b[0mpredict\u001b[0m\u001b[0;34m(\u001b[0m\u001b[0mtest_files\u001b[0m\u001b[0;34m)\u001b[0m\u001b[0;34m\u001b[0m\u001b[0m\n\u001b[0m\u001b[1;32m      6\u001b[0m \u001b[0;34m\u001b[0m\u001b[0m\n\u001b[1;32m      7\u001b[0m \u001b[0mprint\u001b[0m\u001b[0;34m(\u001b[0m\u001b[0mmetrics\u001b[0m\u001b[0;34m.\u001b[0m\u001b[0mclassification_report\u001b[0m\u001b[0;34m(\u001b[0m\u001b[0mtest_lang\u001b[0m\u001b[0;34m,\u001b[0m \u001b[0mpredicted\u001b[0m\u001b[0;34m)\u001b[0m\u001b[0;34m)\u001b[0m\u001b[0;34m\u001b[0m\u001b[0m\n",
        "\u001b[0;32m/Users/johnmitsch/.pyenv/versions/sandbox/lib/python3.4/site-packages/sklearn/linear_model/base.py\u001b[0m in \u001b[0;36mpredict\u001b[0;34m(self, X)\u001b[0m\n\u001b[1;32m    213\u001b[0m             \u001b[0mPredicted\u001b[0m \u001b[0;32mclass\u001b[0m \u001b[0mlabel\u001b[0m \u001b[0mper\u001b[0m \u001b[0msample\u001b[0m\u001b[0;34m.\u001b[0m\u001b[0;34m\u001b[0m\u001b[0m\n\u001b[1;32m    214\u001b[0m         \"\"\"\n\u001b[0;32m--> 215\u001b[0;31m         \u001b[0mscores\u001b[0m \u001b[0;34m=\u001b[0m \u001b[0mself\u001b[0m\u001b[0;34m.\u001b[0m\u001b[0mdecision_function\u001b[0m\u001b[0;34m(\u001b[0m\u001b[0mX\u001b[0m\u001b[0;34m)\u001b[0m\u001b[0;34m\u001b[0m\u001b[0m\n\u001b[0m\u001b[1;32m    216\u001b[0m         \u001b[0;32mif\u001b[0m \u001b[0mlen\u001b[0m\u001b[0;34m(\u001b[0m\u001b[0mscores\u001b[0m\u001b[0;34m.\u001b[0m\u001b[0mshape\u001b[0m\u001b[0;34m)\u001b[0m \u001b[0;34m==\u001b[0m \u001b[0;36m1\u001b[0m\u001b[0;34m:\u001b[0m\u001b[0;34m\u001b[0m\u001b[0m\n\u001b[1;32m    217\u001b[0m             \u001b[0mindices\u001b[0m \u001b[0;34m=\u001b[0m \u001b[0;34m(\u001b[0m\u001b[0mscores\u001b[0m \u001b[0;34m>\u001b[0m \u001b[0;36m0\u001b[0m\u001b[0;34m)\u001b[0m\u001b[0;34m.\u001b[0m\u001b[0mastype\u001b[0m\u001b[0;34m(\u001b[0m\u001b[0mnp\u001b[0m\u001b[0;34m.\u001b[0m\u001b[0mint\u001b[0m\u001b[0;34m)\u001b[0m\u001b[0;34m\u001b[0m\u001b[0m\n",
        "\u001b[0;32m/Users/johnmitsch/.pyenv/versions/sandbox/lib/python3.4/site-packages/sklearn/linear_model/base.py\u001b[0m in \u001b[0;36mdecision_function\u001b[0;34m(self, X)\u001b[0m\n\u001b[1;32m    194\u001b[0m         \u001b[0;32mif\u001b[0m \u001b[0mX\u001b[0m\u001b[0;34m.\u001b[0m\u001b[0mshape\u001b[0m\u001b[0;34m[\u001b[0m\u001b[0;36m1\u001b[0m\u001b[0;34m]\u001b[0m \u001b[0;34m!=\u001b[0m \u001b[0mn_features\u001b[0m\u001b[0;34m:\u001b[0m\u001b[0;34m\u001b[0m\u001b[0m\n\u001b[1;32m    195\u001b[0m             raise ValueError(\"X has %d features per sample; expecting %d\"\n\u001b[0;32m--> 196\u001b[0;31m                              % (X.shape[1], n_features))\n\u001b[0m\u001b[1;32m    197\u001b[0m \u001b[0;34m\u001b[0m\u001b[0m\n\u001b[1;32m    198\u001b[0m         scores = safe_sparse_dot(X, self.coef_.T,\n",
        "\u001b[0;31mValueError\u001b[0m: X has 32 features per sample; expecting 44"
       ]
      }
     ],
     "prompt_number": 646
    },
    {
     "cell_type": "code",
     "collapsed": false,
     "input": [],
     "language": "python",
     "metadata": {},
     "outputs": []
    }
   ],
   "metadata": {}
  }
 ]
}